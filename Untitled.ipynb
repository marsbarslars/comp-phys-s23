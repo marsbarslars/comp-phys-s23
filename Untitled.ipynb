{
 "cells": [
  {
   "cell_type": "code",
   "execution_count": null,
   "id": "e0f80299",
   "metadata": {},
   "outputs": [],
   "source": [
    "import numpy as np\n",
    "import matplotlib.pyplot as plt\n",
    "\n",
    "def euler(y0, dt, f):\n",
    "    qn, pn = y0\n",
    "    qd, pd = f(qn, pn)\n",
    "    qn = qn + dt*qd\n",
    "    pn = pn + dt*pd\n",
    "    return qn, pn\n",
    "\n",
    "def f(q, p):\n",
    "    return p, -q\n",
    "\n",
    "def rk2(y0, dt, f):\n",
    "    qn, pn = y0\n",
    "    dt2 = 0.5*dt\n",
    "    qd, pd = f(qn, pn)\n",
    "    qt = qn + dt2*qd\n",
    "    pt = pn + dt2*pd\n",
    "    qd, pd = f(qt, pt)\n",
    "    yn = qn + dt*qd\n",
    "    pn = pn + dt*pd\n",
    "    return qn, pn\n",
    "\n",
    "y0 = 1, 1\n",
    "dt0 = 2\n",
    "n = 14\n",
    "e_euler_q = np.empty(n)\n",
    "e_euler_p = np.empty(n)\n",
    "e_rk2_q = np.empty(n)\n",
    "e_rk2_p = np.empty(n)\n",
    "exact_q = np.empty(n)\n",
    "exact_p = np.empty(n)\n",
    "dt = dt0 * (0.5**np.arange(n)) \n",
    "\n",
    "for i in range(n):\n",
    "    exact_q[i] = np.cos(dt[i]) + np.sin(dt[i])\n",
    "    exact_p[i] = np.cos(dt[i]) - np.sin(dt[i])\n",
    "    \n",
    "    e = euler(y0, dt[i], f)\n",
    "    e_euler_q[i] = e[0] - exact_q[i]\n",
    "    e_euler_p[i] = e[1] - exact_p[i]\n",
    "    \n",
    "    r = rk2(y0, dt[i], f)\n",
    "    e_rk2_q[i] = r[0] - exact_q[i]\n",
    "    e_rk2_p[i] = r[1] - exact_p[i]\n",
    "    \n",
    "fig, ax = plt.subplots()\n",
    "ax.plot()\n",
    "plt.show()"
   ]
  },
  {
   "cell_type": "code",
   "execution_count": null,
   "id": "12f0b3c6",
   "metadata": {},
   "outputs": [],
   "source": []
  }
 ],
 "metadata": {
  "kernelspec": {
   "display_name": "Python 3",
   "language": "python",
   "name": "python3"
  },
  "language_info": {
   "codemirror_mode": {
    "name": "ipython",
    "version": 3
   },
   "file_extension": ".py",
   "mimetype": "text/x-python",
   "name": "python",
   "nbconvert_exporter": "python",
   "pygments_lexer": "ipython3",
   "version": "3.8.8"
  }
 },
 "nbformat": 4,
 "nbformat_minor": 5
}
