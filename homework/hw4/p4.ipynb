{
 "cells": [
  {
   "cell_type": "markdown",
   "id": "b1ea39fb",
   "metadata": {},
   "source": [
    "I will start by evaluating the integral using the trapezoid and Simpson's methods."
   ]
  },
  {
   "cell_type": "code",
   "execution_count": 3,
   "id": "01f3ce96",
   "metadata": {},
   "outputs": [
    {
     "name": "stdout",
     "output_type": "stream",
     "text": [
      "Trapezoid:\n",
      "31.41580133024912\n",
      "20.277747485182726\n",
      "Simpson's:\n",
      "6.981106388226005\n",
      "5.438699290294826\n",
      "Analytical:\n",
      "4.048275771517457\n"
     ]
    }
   ],
   "source": [
    "#Import modules\n",
    "import math\n",
    "\n",
    "#Make trapezoid function\n",
    "def trap(ords):\n",
    "    h = 1.553343/ords\n",
    "    integral = 0\n",
    "    for i in range(ords):\n",
    "        integral += h * (math.tan(h*i)/2 + math.tan(h*(i+1)))\n",
    "    return integral\n",
    "\n",
    "#Make Simpson's function\n",
    "def simp(ords):\n",
    "    h = 1.553343/ords\n",
    "    integral = 0\n",
    "    for i in range(ords):\n",
    "        integral += h/2 * (math.tan(h*i)/3 + math.tan(h*(i+0.5))*4/3 + math.tan(h*(i+1))/3)\n",
    "    return integral\n",
    "\n",
    "#Print results based on ordinate number (3 then 5 for each)\n",
    "print('Trapezoid:')\n",
    "print(trap(3))\n",
    "print(trap(5))\n",
    "print(\"Simpson's:\")\n",
    "print(simp(3))\n",
    "print(simp(5))\n",
    "\n",
    "print(\"Analytical:\")\n",
    "print(math.log(math.cos(0)) - math.log(math.cos(1.553343)))"
   ]
  },
  {
   "cell_type": "markdown",
   "id": "0f68391d",
   "metadata": {},
   "source": [
    "The trapezoid method was completely awful being at least 5 times the analytical answer. However, it did get better when going from 3 to 5 ordinates. The Simpson's method, on the other hand, did much better. It was within 75% of the analytical answer both times and got much closer for 5 ordinates than 3."
   ]
  },
  {
   "cell_type": "markdown",
   "id": "685c8f13",
   "metadata": {},
   "source": [
    "$$\\int_{0}^{1.553343} \\operatorname{tan}{x} - \\frac{1}{\\frac{\\pi}{2} - x} \\,dx + \\int_{0}^{1.553343} \\frac{1}{\\frac{\\pi}{2} - x} \\,dx$$\n",
    "$$\\int_{0}^{1.553343} \\operatorname{tan}{x} - \\frac{1}{\\frac{\\pi}{2} - x} \\,dx - \\operatorname{ln}{(\\frac{\\pi}{2} - 1.553343)} + \\operatorname{ln}{\\frac{\\pi}{2}}$$"
   ]
  },
  {
   "cell_type": "code",
   "execution_count": 7,
   "id": "53014e5d",
   "metadata": {},
   "outputs": [
    {
     "name": "stdout",
     "output_type": "stream",
     "text": [
      "Trapezoid:\n",
      "3.8955305740654094\n",
      "3.8683659908108545\n",
      "Simpson's:\n",
      "4.04825516744824\n",
      "4.048272990790898\n"
     ]
    }
   ],
   "source": [
    "def f(x):\n",
    "    return math.tan(x) - 1/(math.pi/2 - x)\n",
    "\n",
    "def trap2(ords):\n",
    "    h = 1.553343/ords\n",
    "    integral = 0\n",
    "    for i in range(ords):\n",
    "        integral += h * (f(h*i)/2 + f(h*(i+1)))\n",
    "    return integral - math.log(math.pi/2 - 1.553343) + math.log(math.pi/2)\n",
    "\n",
    "def simp2(ords):\n",
    "    h = 1.553343/ords\n",
    "    integral = 0\n",
    "    for i in range(ords):\n",
    "        integral += h/2 * (f(h*i)/3 + f(h*(i+0.5))*4/3 + f(h*(i+1))/3)\n",
    "    return integral - math.log(math.pi/2 - 1.553343) + math.log(math.pi/2)\n",
    "\n",
    "print('Trapezoid:')\n",
    "print(trap2(3))\n",
    "print(trap2(5))\n",
    "print(\"Simpson's:\")\n",
    "print(simp2(3))\n",
    "print(simp2(5))"
   ]
  },
  {
   "cell_type": "markdown",
   "id": "37c9fb7b",
   "metadata": {},
   "source": [
    "Both ways are much closer to the analytical answer than before. The trapezoid approximation is within 5% at worst (strangely, it was the 5 ordinate one that was worse), and the Simpson's approximation is correct up to 6 sig figs."
   ]
  }
 ],
 "metadata": {
  "kernelspec": {
   "display_name": "Python 3 (ipykernel)",
   "language": "python",
   "name": "python3"
  },
  "language_info": {
   "codemirror_mode": {
    "name": "ipython",
    "version": 3
   },
   "file_extension": ".py",
   "mimetype": "text/x-python",
   "name": "python",
   "nbconvert_exporter": "python",
   "pygments_lexer": "ipython3",
   "version": "3.9.13"
  }
 },
 "nbformat": 4,
 "nbformat_minor": 5
}
