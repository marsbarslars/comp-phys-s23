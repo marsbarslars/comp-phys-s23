{
 "cells": [
  {
   "cell_type": "markdown",
   "id": "9830c454",
   "metadata": {},
   "source": [
    "The first thing I'll do is simplify the equation/integral.\n",
    "$$\\newline$$\n",
    "$$I(\\omega)d\\omega = \\frac{\\hbar}{4\\pi^2 c^2}\\frac{\\omega^3}{e^{\\hbar \\omega /k_B T} - 1}d\\omega$$\n",
    "$$\\newline$$\n",
    "$$W = \\frac{\\hbar}{4\\pi^2 c^2} \\int_{0}^{\\infty} \\frac{\\omega^3}{e^{\\hbar \\omega /k_B T} - 1} \\,d\\omega$$\n",
    "$$\\newline$$\n",
    "Let $x = \\frac{\\hbar \\omega}{k_B T}$, so $\\omega = \\frac{k_B T}{\\hbar}x$ and $d\\omega = \\frac{k_B T}{\\hbar}dx$.\n",
    "$$\\newline$$\n",
    "$$W = \\frac{\\hbar}{4\\pi^2 c^2} \\int_{0}^{\\infty} (\\frac{k_B T}{\\hbar})^3 \\frac{x^3}{e^x - 1}(\\frac{k_B T}{\\hbar}) \\,dx$$\n",
    "$$\\newline$$\n",
    "$$W = \\frac{k_{B}^{4} T^4}{4\\pi^2 c^2 \\hbar^3} \\int_{0}^{\\infty} \\frac{x^3}{e^x - 1} \\,dx$$"
   ]
  },
  {
   "cell_type": "markdown",
   "id": "4c36b9d2",
   "metadata": {},
   "source": [
    "To make the improper integral a proper integral, I will do a change of variable where $y = \\frac{x}{1+x}$. Then, $x = \\frac{y}{1-y}$ and $dx = \\frac{1}{(1-x)^2} dy$. So,\n",
    "$$\\newline$$\n",
    "$$W = \\frac{k_{B}^{4} T^4}{4\\pi^2 c^2 \\hbar^3} \\int_{0}^{1} \\frac{y^3}{(1-y)^5 (e^{\\frac{y}{1-y}} -1)} \\,dy.$$"
   ]
  },
  {
   "cell_type": "markdown",
   "id": "a37828e9",
   "metadata": {},
   "source": [
    "Next, I will evaluate this integral using Gaussian quadrature with the sample points and weights already found."
   ]
  },
  {
   "cell_type": "code",
   "execution_count": 45,
   "id": "ed7a03be",
   "metadata": {},
   "outputs": [
    {
     "name": "stdout",
     "output_type": "stream",
     "text": [
      "6.496396573655289\n"
     ]
    }
   ],
   "source": [
    "#Import modules (including what Golf made)\n",
    "import numpy as np\n",
    "import scipy.constants as con\n",
    "\n",
    "#Integrand function\n",
    "def f(y):\n",
    "    return (y**3) / (((1-y)**5) * (np.exp(y/(1-y))-1))\n",
    "\n",
    "#Do order 12\n",
    "xog, wog = gq.params(12)\n",
    "\n",
    "#Shift/scale parameters\n",
    "x = 0.5*xog + 0.5\n",
    "w = 0.5*wog\n",
    "\n",
    "#Find integral\n",
    "integral = 0\n",
    "for i in range(len(x)):\n",
    "    integral += f(x[i]) * w[i]\n",
    "\n",
    "print(integral)"
   ]
  },
  {
   "cell_type": "markdown",
   "id": "51429c41",
   "metadata": {},
   "source": [
    "The accuracy of this answer should be very good. It's not exact, but the Gaussian quadrature is pretty accurate, even at low orders. Next, I will calculate a value for the Stefan-Boltzmann constant."
   ]
  },
  {
   "cell_type": "code",
   "execution_count": 46,
   "id": "c27f52ce",
   "metadata": {},
   "outputs": [
    {
     "name": "stdout",
     "output_type": "stream",
     "text": [
      "5.67e-08\n",
      "5.67e-08\n"
     ]
    }
   ],
   "source": [
    "SB = con.k**4 / (4*(math.pi**2)*(con.c**2)*(con.hbar**3)) * integral\n",
    "\n",
    "print(round(con.Stefan_Boltzmann, 10))\n",
    "print(round(SB, 10))"
   ]
  },
  {
   "cell_type": "markdown",
   "id": "da091245",
   "metadata": {},
   "source": [
    "Rounded to 3 sig figs, the value I found is the same as the accepted value."
   ]
  }
 ],
 "metadata": {
  "kernelspec": {
   "display_name": "Python 3 (ipykernel)",
   "language": "python",
   "name": "python3"
  },
  "language_info": {
   "codemirror_mode": {
    "name": "ipython",
    "version": 3
   },
   "file_extension": ".py",
   "mimetype": "text/x-python",
   "name": "python",
   "nbconvert_exporter": "python",
   "pygments_lexer": "ipython3",
   "version": "3.9.13"
  }
 },
 "nbformat": 4,
 "nbformat_minor": 5
}
