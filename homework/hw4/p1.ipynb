{
 "cells": [
  {
   "cell_type": "markdown",
   "id": "9830c454",
   "metadata": {},
   "source": [
    "The first thing I'll do is simplify the equation/integral.\n",
    "$$\\newline$$\n",
    "$$I(\\omega)d\\omega = \\frac{\\hbar}{4\\pi^2 c^2}\\frac{\\omega^3}{e^{\\hbar \\omega /k_B T} - 1}d\\omega$$\n",
    "$$\\newline$$\n",
    "$$W = \\frac{\\hbar}{4\\pi^2 c^2} \\int_{0}^{\\infty} \\frac{\\omega^3}{e^{\\hbar \\omega /k_B T} - 1} \\,d\\omega$$\n",
    "$$\\newline$$\n",
    "Let $x = \\frac{\\hbar \\omega}{k_B T}$, so $\\omega = \\frac{k_B T}{\\hbar}x$ and $d\\omega = \\frac{k_B T}{\\hbar}dx$.\n",
    "$$\\newline$$\n",
    "$$W = \\frac{\\hbar}{4\\pi^2 c^2} \\int_{0}^{\\infty} (\\frac{k_B T}{\\hbar})^3 \\frac{x^3}{e^x - 1}(\\frac{k_B T}{\\hbar}) \\,dx$$\n",
    "$$\\newline$$\n",
    "$$W = \\frac{k_{B}^{4} T^4}{4\\pi^2 c^2 \\hbar^3} \\int_{0}^{\\infty} \\frac{x^3}{e^x - 1} \\,dx$$"
   ]
  },
  {
   "cell_type": "markdown",
   "id": "a37828e9",
   "metadata": {},
   "source": [
    "Next, I will evaluate this integral using Gaussian quadrature."
   ]
  },
  {
   "cell_type": "code",
   "execution_count": null,
   "id": "ed7a03be",
   "metadata": {},
   "outputs": [],
   "source": [
    "#Import modules\n",
    "import numpy as np\n",
    "import matplotlib.pyplot as plt\n",
    "\n",
    "#Look at polynomial and .deriv in numpy and constants in scipy"
   ]
  }
 ],
 "metadata": {
  "kernelspec": {
   "display_name": "Python 3",
   "language": "python",
   "name": "python3"
  },
  "language_info": {
   "codemirror_mode": {
    "name": "ipython",
    "version": 3
   },
   "file_extension": ".py",
   "mimetype": "text/x-python",
   "name": "python",
   "nbconvert_exporter": "python",
   "pygments_lexer": "ipython3",
   "version": "3.8.8"
  }
 },
 "nbformat": 4,
 "nbformat_minor": 5
}
