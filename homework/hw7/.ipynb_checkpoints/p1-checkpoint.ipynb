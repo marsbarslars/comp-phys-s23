{
 "cells": [
  {
   "cell_type": "markdown",
   "id": "1503f0dc",
   "metadata": {},
   "source": [
    "This problem uses the fourth order Runge-Kutta method to find the output voltage of a low-pass filter."
   ]
  },
  {
   "cell_type": "code",
   "execution_count": null,
   "id": "7ba7387a",
   "metadata": {},
   "outputs": [],
   "source": [
    "#Import modules\n",
    "import numpy as np\n",
    "import matplotlib.pyplot as plt\n",
    "\n",
    "#Make a function for Runge-Kutta\n",
    "def RK4()"
   ]
  }
 ],
 "metadata": {
  "kernelspec": {
   "display_name": "Python 3",
   "language": "python",
   "name": "python3"
  },
  "language_info": {
   "codemirror_mode": {
    "name": "ipython",
    "version": 3
   },
   "file_extension": ".py",
   "mimetype": "text/x-python",
   "name": "python",
   "nbconvert_exporter": "python",
   "pygments_lexer": "ipython3",
   "version": "3.8.8"
  }
 },
 "nbformat": 4,
 "nbformat_minor": 5
}
