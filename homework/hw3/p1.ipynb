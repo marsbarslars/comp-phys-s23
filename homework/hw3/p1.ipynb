{
 "cells": [
  {
   "cell_type": "markdown",
   "id": "76fcce97",
   "metadata": {},
   "source": [
    "This program finds the smallest number $ \\epsilon $ such that $ 1 + \\epsilon \\neq 1 $. In computers, the number system is in binary, so the cutoff value (how low a fraction can go) is restricted to a power of 2. There are only so many digits available in double precision; once they run out, $ \\epsilon $ cannot go any lower."
   ]
  },
  {
   "cell_type": "code",
   "execution_count": 13,
   "id": "3bc9d63a",
   "metadata": {},
   "outputs": [
    {
     "name": "stdout",
     "output_type": "stream",
     "text": [
      "epsilon: 2.220446049250313e-16\n",
      "exponent: -52.0\n"
     ]
    }
   ],
   "source": [
    "#Import necessary module\n",
    "import math\n",
    "\n",
    "#Iterate as epsilon gets smaller to find smallest value\n",
    "#Right value is one right before it fails the condition\n",
    "ep = 1.\n",
    "while 1. + ep != 1.:\n",
    "    inv = ep\n",
    "    ep /= 2.\n",
    "ep = inv\n",
    "\n",
    "#Show epsilon and log base 2 of epsilon\n",
    "print('epsilon: %s' %(ep))\n",
    "print('exponent: %s' %(math.log(ep, 2)))"
   ]
  },
  {
   "cell_type": "markdown",
   "id": "594ff57b",
   "metadata": {},
   "source": [
    "In double precision, there are 64 bits total, and 52 of them are used for the mantissa (significand). Each time $ \\epsilon $ is divided by 2, the base 2 representation of number gets shifted to the right. This is added to 1, which gets a representation that's at most 52 bits long. The exponent can be ignored because the 1 limits the mantissa. After enough interations, $ \\epsilon $ drops off when added to 1, so the result is also 1. This is why $ 2^{-52} $ is the smallest $ \\epsilon $ possible."
   ]
  },
  {
   "cell_type": "code",
   "execution_count": null,
   "id": "014bdbce",
   "metadata": {},
   "outputs": [],
   "source": []
  }
 ],
 "metadata": {
  "kernelspec": {
   "display_name": "Python 3",
   "language": "python",
   "name": "python3"
  },
  "language_info": {
   "codemirror_mode": {
    "name": "ipython",
    "version": 3
   },
   "file_extension": ".py",
   "mimetype": "text/x-python",
   "name": "python",
   "nbconvert_exporter": "python",
   "pygments_lexer": "ipython3",
   "version": "3.8.8"
  }
 },
 "nbformat": 4,
 "nbformat_minor": 5
}
