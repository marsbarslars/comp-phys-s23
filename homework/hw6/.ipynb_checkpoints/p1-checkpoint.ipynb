{
 "cells": [
  {
   "cell_type": "markdown",
   "id": "f6c848ed",
   "metadata": {},
   "source": [
    "$$f(x,y) = (x+2y)(x+y)$$\n",
    "$$\\newline$$\n",
    "$$f(x,y) = g(x,y) p(x,y)$$\n",
    "$$\\newline$$\n",
    "$$g(x,y) = 7(x+2y)$$\n",
    "$$\\newline$$\n",
    "$$p(x,y) = \\frac{x+y}{7}$$"
   ]
  },
  {
   "cell_type": "markdown",
   "id": "06aa503e",
   "metadata": {},
   "source": [
    "$$\\newline$$\n",
    "$$\\int_{2}^{4} \\int_{0}^{1} \\frac{x}{7} + \\frac{y}{7} \\,dx \\,dy$$\n",
    "$$\\newline$$\n",
    "$$\\int_{2}^{4} \\frac{1}{14} + \\frac{y}{7} \\,dy$$\n",
    "$$\\newline$$\n",
    "$$\\frac{4}{14} + \\frac{16}{14} - \\frac{2}{14} - \\frac{4}{14}$$\n",
    "$$\\newline$$\n",
    "$$1$$\n",
    "$$\\newline$$\n",
    "The pdf $p(x,y)$ is normalized."
   ]
  },
  {
   "cell_type": "markdown",
   "id": "ca6fd6e1",
   "metadata": {},
   "source": [
    "Now, I'll generate a Markov chain to find the integral of $f(x,y)$."
   ]
  },
  {
   "cell_type": "code",
   "execution_count": 17,
   "id": "0a57b26b",
   "metadata": {},
   "outputs": [
    {
     "name": "stdout",
     "output_type": "stream",
     "text": [
      "46.90425537281172\n"
     ]
    }
   ],
   "source": [
    "#Import modules\n",
    "import numpy as np\n",
    "import numpy.random as rand\n",
    "\n",
    "#Define functions from problem\n",
    "def g(x, y):\n",
    "    return 7*(x + 2*y)\n",
    "\n",
    "def p(x, y):\n",
    "    return (x + y)/7\n",
    "\n",
    "#Set bounds\n",
    "xmin = 0\n",
    "xmax = 1\n",
    "ymin = 2\n",
    "ymax = 4\n",
    "\n",
    "#Start arrays as lists\n",
    "x = [rand.uniform(xmin, xmax)]\n",
    "y = [rand.uniform(ymin, ymax)]\n",
    "\n",
    "#Random walk time\n",
    "for i in range(10**6):\n",
    "    x.append(x[i] + rand.uniform(-0.1, 0.1))\n",
    "    y.append(y[i] + rand.uniform(-0.1, 0.1))\n",
    "    \n",
    "    #Make sure values don't go outside range\n",
    "    while x[-1] < xmin or x[-1] > xmax:\n",
    "        x[-1] = x[i] + rand.uniform(-0.1, 0.1)\n",
    "    while y[-1] < ymin or y[-1] > ymax:\n",
    "        y[-1] = y[i] + rand.uniform(-0.1, 0.1)\n",
    "    \n",
    "    #Compare ratio of proposed values to random number\n",
    "    if rand.uniform(0, 1) > p(x[-1], y[-1])/p(x[i], y[i]):\n",
    "        x[-1] = x[i]\n",
    "        y[-1] = y[i]\n",
    "\n",
    "#Trash burn entries\n",
    "x = x[10**5:]\n",
    "y = y[10**5:]\n",
    "\n",
    "#Find mean of g(x, y) to find integral\n",
    "x = np.array(x)\n",
    "y = np.array(y)\n",
    "output = g(x, y)\n",
    "integral = np.mean(output)\n",
    "print(integral)"
   ]
  }
 ],
 "metadata": {
  "kernelspec": {
   "display_name": "Python 3 (ipykernel)",
   "language": "python",
   "name": "python3"
  },
  "language_info": {
   "codemirror_mode": {
    "name": "ipython",
    "version": 3
   },
   "file_extension": ".py",
   "mimetype": "text/x-python",
   "name": "python",
   "nbconvert_exporter": "python",
   "pygments_lexer": "ipython3",
   "version": "3.9.13"
  }
 },
 "nbformat": 4,
 "nbformat_minor": 5
}
