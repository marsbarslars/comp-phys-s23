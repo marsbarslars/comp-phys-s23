{
 "cells": [
  {
   "cell_type": "markdown",
   "id": "45bc0bfd",
   "metadata": {},
   "source": []
  },
  {
   "cell_type": "code",
   "execution_count": 9,
   "id": "f2a0b664",
   "metadata": {},
   "outputs": [],
   "source": [
    "#Import modules\n",
    "import numpy as np\n",
    "import numpy.random as rand\n",
    "import matplotlib.pyplot as plt\n",
    "import scipy.constants as const\n",
    "\n",
    "lattice = rand.randint(2, size=50)\n",
    "lattice = 2*(lattice - 0.5)\n",
    "\n",
    "H = 0\n",
    "for i in range(50, step=2):\n",
    "    H += lattice[i]*lattice[i+1]\n",
    "    H += lattice[i+1]*h\n",
    "    H *= -1\n",
    "\n",
    "x = rand.randint(50)\n",
    "lattice[x] *= -1\n",
    "\n",
    "#Remember to make a random seed so Gio can replicate results"
   ]
  }
 ],
 "metadata": {
  "kernelspec": {
   "display_name": "Python 3",
   "language": "python",
   "name": "python3"
  },
  "language_info": {
   "codemirror_mode": {
    "name": "ipython",
    "version": 3
   },
   "file_extension": ".py",
   "mimetype": "text/x-python",
   "name": "python",
   "nbconvert_exporter": "python",
   "pygments_lexer": "ipython3",
   "version": "3.8.8"
  }
 },
 "nbformat": 4,
 "nbformat_minor": 5
}
