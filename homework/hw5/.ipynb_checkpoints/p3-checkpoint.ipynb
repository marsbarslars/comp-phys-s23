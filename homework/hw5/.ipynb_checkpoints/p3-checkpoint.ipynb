{
 "cells": [
  {
   "cell_type": "markdown",
   "id": "e7f38eb0",
   "metadata": {},
   "source": [
    "For reference, I'll find the exact value of the integral.\n",
    "$$\\newline$$\n",
    "$$\\int_{2}^{4} \\int_{0}^{1} x^2 + 2y^2 + 3xy \\,dx \\,dy$$\n",
    "$$\\newline$$\n",
    "$$\\int_{2}^{4} \\frac{1}{3} + \\frac{3y}{2} + 2y^2 \\,dy$$\n",
    "$$\\newline$$\n",
    "$$\\frac{y}{3} + \\frac{3y^2}{4} + \\frac{2y^3}{3} |_{2}^{4}$$\n",
    "$$\\newline$$\n",
    "$$\\frac{2}{3} + \\frac{36}{4} + \\frac{112}{3}$$\n",
    "$$\\newline$$\n",
    "$$47$$\n",
    "$$\\newline$$\n",
    "\n",
    "Next, I'll use Monte Carlo integration."
   ]
  },
  {
   "cell_type": "code",
   "execution_count": 11,
   "id": "301ab798",
   "metadata": {},
   "outputs": [
    {
     "name": "stdout",
     "output_type": "stream",
     "text": [
      "Integral by MC: 47.08176937551369\n",
      "Actual integral: 47\n",
      "Percent Error: 0.17397739470997284%\n"
     ]
    }
   ],
   "source": [
    "#Import modules\n",
    "import numpy as np\n",
    "import numpy.random as rand\n",
    "\n",
    "#Make function in integral\n",
    "def func(x, y):\n",
    "    return (x+2*y)*(x+y)\n",
    "\n",
    "#Make lists of random elements for both ind. var.\n",
    "x = rand.uniform(0, 1, 10**5)\n",
    "y = rand.uniform(2, 4, 10**5)\n",
    "\n",
    "#Use MC method (I is average*space in x*space in y)\n",
    "f = func(x, y)\n",
    "avg_f = sum(f)/len(f)\n",
    "I = avg_f*2\n",
    "\n",
    "print('Integral by MC: ' + str(I))\n",
    "print('Actual integral: ' + str(47))\n",
    "print('Percent Error: ' + str((I-47)*100/47) + '%')"
   ]
  },
  {
   "cell_type": "markdown",
   "id": "1fac39d9",
   "metadata": {},
   "source": [
    "It's off, but not by much. After trying this over and over, it has consistently been within 1%, usually within 0.2%."
   ]
  }
 ],
 "metadata": {
  "kernelspec": {
   "display_name": "Python 3 (ipykernel)",
   "language": "python",
   "name": "python3"
  },
  "language_info": {
   "codemirror_mode": {
    "name": "ipython",
    "version": 3
   },
   "file_extension": ".py",
   "mimetype": "text/x-python",
   "name": "python",
   "nbconvert_exporter": "python",
   "pygments_lexer": "ipython3",
   "version": "3.9.13"
  }
 },
 "nbformat": 4,
 "nbformat_minor": 5
}
