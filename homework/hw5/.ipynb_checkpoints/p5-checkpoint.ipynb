{
 "cells": [
  {
   "cell_type": "markdown",
   "id": "c99c267a",
   "metadata": {},
   "source": [
    "First, I'll make a set of X values following the steps in the homework."
   ]
  },
  {
   "cell_type": "code",
   "execution_count": 1,
   "id": "91425c75",
   "metadata": {},
   "outputs": [],
   "source": [
    "#Import modules\n",
    "import numpy as np\n",
    "import numpy.random as rand\n",
    "import matplotlib.pyplot as plt\n",
    "\n",
    "#Build X using outside for loop and inside while loop to make sure u < 1\n",
    "x = []\n",
    "for j in range(10**6):\n",
    "    i = 0\n",
    "    u = 0\n",
    "    while u < 1:\n",
    "        u += rand.random(1)\n",
    "        i += 1\n",
    "    x.append(i)"
   ]
  },
  {
   "cell_type": "markdown",
   "id": "2309e5d0",
   "metadata": {},
   "source": [
    "Next, I'll simply make a histogram."
   ]
  },
  {
   "cell_type": "code",
   "execution_count": 2,
   "id": "892a2796",
   "metadata": {},
   "outputs": [
    {
     "data": {
      "image/png": "[encoded data removed]",
      "text/plain": [
       "<Figure size 720x720 with 1 Axes>"
      ]
     },
     "metadata": {
      "needs_background": "light"
     },
     "output_type": "display_data"
    }
   ],
   "source": [
    "fig, ax = plt.subplots(figsize=(10, 10))\n",
    "ax.hist(x, bins=range(min(x), max(x) + 1, 1))\n",
    "ax.set(xlabel='X', ylabel='Frequency')\n",
    "plt.show()"
   ]
  },
  {
   "cell_type": "markdown",
   "id": "cb9d133b",
   "metadata": {},
   "source": [
    "Find e and the percent error."
   ]
  },
  {
   "cell_type": "code",
   "execution_count": 3,
   "id": "4114d079",
   "metadata": {},
   "outputs": [
    {
     "name": "stdout",
     "output_type": "stream",
     "text": [
      "Estimate: 2.718697\n",
      "Real Value: 2.718281828459045\n",
      "Percent Error: 0.015273307447683055%\n"
     ]
    }
   ],
   "source": [
    "est = sum(x)/len(x)\n",
    "\n",
    "print('Estimate: ' + str(est))\n",
    "print('Real Value: ' + str(np.exp(1)))\n",
    "print('Percent Error: ' + str((est-np.exp(1))*100/np.exp(1)) + '%')"
   ]
  },
  {
   "cell_type": "markdown",
   "id": "a32659fc",
   "metadata": {},
   "source": [
    "Use the antithetic set to cut down the error."
   ]
  },
  {
   "cell_type": "code",
   "execution_count": 5,
   "id": "7027ba42",
   "metadata": {},
   "outputs": [
    {
     "name": "stdout",
     "output_type": "stream",
     "text": [
      "New estimate: 2.718175\n",
      "Percent Error: -0.003929999381471144%\n"
     ]
    }
   ],
   "source": [
    "#Follow similar process for antithetic as I did for X\n",
    "anti = []\n",
    "for j in range(10**6):\n",
    "    i = 0\n",
    "    u = 0\n",
    "    while u < 1:\n",
    "        u += 1 - rand.random(1)\n",
    "        i += 1\n",
    "    anti.append(i)\n",
    "\n",
    "x = np.array(x)\n",
    "anti = np.array(anti)\n",
    "est_list = (x + anti)/2\n",
    "est = sum(est_list)/len(est_list)\n",
    "\n",
    "print('New estimate: ' + str(est))\n",
    "print('Percent Error: ' + str((est-np.exp(1))*100/np.exp(1)) + '%')"
   ]
  },
  {
   "cell_type": "markdown",
   "id": "e6e1b725",
   "metadata": {},
   "source": [
    "It's closer to e this time around. The percent error got cut down by about an order of magnitude."
   ]
  }
 ],
 "metadata": {
  "kernelspec": {
   "display_name": "Python 3",
   "language": "python",
   "name": "python3"
  },
  "language_info": {
   "codemirror_mode": {
    "name": "ipython",
    "version": 3
   },
   "file_extension": ".py",
   "mimetype": "text/x-python",
   "name": "python",
   "nbconvert_exporter": "python",
   "pygments_lexer": "ipython3",
   "version": "3.8.8"
  }
 },
 "nbformat": 4,
 "nbformat_minor": 5
}
