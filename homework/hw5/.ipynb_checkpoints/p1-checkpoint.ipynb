{
 "cells": [
  {
   "cell_type": "markdown",
   "id": "2ad218e6",
   "metadata": {},
   "source": [
    "This problem focuses on finding the value of pi from the area of a quarter circle within a unit square."
   ]
  },
  {
   "cell_type": "code",
   "execution_count": 29,
   "id": "e381f7c9",
   "metadata": {},
   "outputs": [
    {
     "name": "stdout",
     "output_type": "stream",
     "text": [
      "Trial 1\n",
      "\tN: 100\n",
      "\tEstimate of pi: 3.12\n",
      "\tPercent error: -0.6873155106573032%\n",
      "\tUncertainty: 0.1656985214176638\n",
      "\tPull: -0.1303128923846341\n",
      "Trial 2\n",
      "\tN: 1000\n",
      "\tEstimate of pi: 3.18\n",
      "\tPercent error: 1.2225438064454426%\n",
      "\tUncertainty: 0.051064664886788395\n",
      "\tPull: 0.7521315668154694\n",
      "Trial 3\n",
      "\tN: 10000\n",
      "\tEstimate of pi: 3.1664\n",
      "\tPercent error: 0.7896423612354784%\n",
      "\tUncertainty: 0.016246572069208938\n",
      "\tPull: 1.5269280377749654\n",
      "Trial 4\n",
      "\tN: 100000\n",
      "\tEstimate of pi: 3.14388\n",
      "\tPercent error: 0.07280849754957873%\n",
      "\tUncertainty: 0.005188003995372402\n",
      "\tPull: 0.4408914126216823\n",
      "Trial 5\n",
      "\tN: 1000000\n",
      "\tEstimate of pi: 3.141092\n",
      "\tPercent error: -0.01593629871845545%\n",
      "\tUncertainty: 0.0016425312927113443\n",
      "\tPull: -0.3048061196853586\n",
      "Chi^2: 2.050262000794946\n",
      "Probability of finding larger Chi^2: 66.89547431107037%\n"
     ]
    }
   ],
   "source": [
    "#Import modules\n",
    "import numpy as np\n",
    "import numpy.random as rand\n",
    "import scipy.stats as stats\n",
    "\n",
    "#Formula for quarter circle\n",
    "def c(x):\n",
    "    return np.sqrt(1 - x**2)\n",
    "\n",
    "#Start pull list for end\n",
    "pull = []\n",
    "\n",
    "#Loop for all trials\n",
    "for ex in range(2, 7):\n",
    "    x = rand.uniform(0, 1, 10**ex)\n",
    "    y = rand.uniform(0, 1, 10**ex)\n",
    "    rands = x[y<c(x)][:10**ex]\n",
    "    \n",
    "    #Calculate necessary items\n",
    "    f = len(rands)/len(x)\n",
    "    pi = 4*f\n",
    "    stdf = np.sqrt(f*(1-f)/len(x))\n",
    "    std = 4*stdf\n",
    "    \n",
    "    #Print required items\n",
    "    print('Trial ' + str(ex-1))\n",
    "    print('\\tN: ' + str(10**ex))\n",
    "    print('\\tEstimate of pi: ' + str(pi))\n",
    "    print('\\tPercent error: ' + str((pi-np.pi)*100/np.pi) + '%')\n",
    "    print('\\tUncertainty: ' + str(std))\n",
    "    print('\\tPull: ' + str((pi-np.pi)/std))\n",
    "    \n",
    "    #Fill out pull list\n",
    "    pull.append((pi-np.pi)/std)\n",
    "\n",
    "#Make chi^2 value from pull list\n",
    "chisquared = 0\n",
    "for i in range(len(pull)):\n",
    "    chisquared += pull[i]**2\n",
    "    \n",
    "#Print final stats\n",
    "print('Chi^2: ' + str(chi2))\n",
    "prob = 1 - stats.chi2.cdf(chisquared, 5)\n",
    "print(r'Probability of finding larger Chi^2: ' + str(prob*100) + '%')"
   ]
  },
  {
   "cell_type": "code",
   "execution_count": null,
   "id": "185b5f8c",
   "metadata": {},
   "outputs": [],
   "source": []
  }
 ],
 "metadata": {
  "kernelspec": {
   "display_name": "Python 3 (ipykernel)",
   "language": "python",
   "name": "python3"
  },
  "language_info": {
   "codemirror_mode": {
    "name": "ipython",
    "version": 3
   },
   "file_extension": ".py",
   "mimetype": "text/x-python",
   "name": "python",
   "nbconvert_exporter": "python",
   "pygments_lexer": "ipython3",
   "version": "3.9.13"
  }
 },
 "nbformat": 4,
 "nbformat_minor": 5
}
