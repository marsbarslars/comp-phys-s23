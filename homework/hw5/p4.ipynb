{
 "cells": [
  {
   "cell_type": "markdown",
   "id": "dd3133f2",
   "metadata": {},
   "source": [
    "First, I will find the exact value of the integral.\n",
    "$$\\newline$$\n",
    "$$I = \\int_{0}^{1} \\frac{1}{1+x} \\,dx$$\n",
    "$$\\newline$$\n",
    "$$I = \\operatorname{ln}{2}$$\n",
    "$$\\newline$$\n",
    "$$I = 0.69315$$\n",
    "$$\\newline$$\n",
    "\n",
    "Now, I'll use a Monte Carlo method to find the integral."
   ]
  },
  {
   "cell_type": "code",
   "execution_count": 26,
   "id": "7e09a045",
   "metadata": {},
   "outputs": [
    {
     "name": "stdout",
     "output_type": "stream",
     "text": [
      "Value from MC integration: 0.6867579253706796\n",
      "Actual integral value: 0.6931471805599453\n",
      "Percent Error: -0.9217746776527697%\n"
     ]
    }
   ],
   "source": [
    "#Import modules\n",
    "import numpy as np\n",
    "import numpy.random as rand\n",
    "import matplotlib.pyplot as plt\n",
    "\n",
    "#Make function and find integral like in problem 3\n",
    "def func(x):\n",
    "    return 1/(1+x)\n",
    "\n",
    "x = rand.uniform(0, 1, 3000)\n",
    "f = func(x)\n",
    "I = sum(f)/len(f)\n",
    "actual = np.log(2)\n",
    "\n",
    "print('Value from MC integration: ' + str(I))\n",
    "print('Actual integral value: ' + str(actual))\n",
    "print('Percent Error: ' + str((I-actual)*100/actual) + '%')"
   ]
  },
  {
   "cell_type": "markdown",
   "id": "cf28cd89",
   "metadata": {},
   "source": [
    "Now, I'll try the antithetic way."
   ]
  },
  {
   "cell_type": "code",
   "execution_count": 27,
   "id": "f55882f3",
   "metadata": {},
   "outputs": [
    {
     "name": "stdout",
     "output_type": "stream",
     "text": [
      "New integration: 0.6920040277502303\n",
      "Percent Error: -0.16492208895541124%\n"
     ]
    }
   ],
   "source": [
    "#Find random sample and antithetic sample\n",
    "x = rand.uniform(0, 1, 1500)\n",
    "anti = 1 - x\n",
    "\n",
    "#Find average of results of function based on\n",
    "#initial sample and antithetic sample\n",
    "f = (func(anti) + func(x))/2\n",
    "I = sum(f)/len(f)\n",
    "\n",
    "print('New integration: ' + str(I))\n",
    "print('Percent Error: ' + str((I-actual)*100/actual) + '%')"
   ]
  },
  {
   "cell_type": "markdown",
   "id": "9417fc13",
   "metadata": {},
   "source": [
    "The results of part (c) are consistently closer to the actual value that those in part (b). The runtime of the two approaches is about the same."
   ]
  }
 ],
 "metadata": {
  "kernelspec": {
   "display_name": "Python 3",
   "language": "python",
   "name": "python3"
  },
  "language_info": {
   "codemirror_mode": {
    "name": "ipython",
    "version": 3
   },
   "file_extension": ".py",
   "mimetype": "text/x-python",
   "name": "python",
   "nbconvert_exporter": "python",
   "pygments_lexer": "ipython3",
   "version": "3.8.8"
  }
 },
 "nbformat": 4,
 "nbformat_minor": 5
}
