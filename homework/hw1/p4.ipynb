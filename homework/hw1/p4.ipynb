{
 "cells": [
  {
   "cell_type": "markdown",
   "id": "3bea0a42",
   "metadata": {},
   "source": [
    "This function generates a password with the criteria listed in the homework pdf."
   ]
  },
  {
   "cell_type": "code",
   "execution_count": 6,
   "id": "29504690",
   "metadata": {},
   "outputs": [
    {
     "data": {
      "text/plain": [
       "'1E=(6:0xA2Vp,9u'"
      ]
     },
     "execution_count": 6,
     "metadata": {},
     "output_type": "execute_result"
    }
   ],
   "source": [
    "#Import necessary modules\n",
    "import string\n",
    "import random\n",
    "\n",
    "#Define function, set used strings to nothing\n",
    "#Pull needed strings\n",
    "def generate_password():\n",
    "    password = ''\n",
    "    flag = ''\n",
    "    lc = string.ascii_lowercase\n",
    "    uc = string.ascii_uppercase\n",
    "    nb = string.digits\n",
    "    pt = string.punctuation\n",
    "    \n",
    "    #Have random integer ready\n",
    "    st = random.randrange(4)\n",
    "    \n",
    "    #Password length will be 15\n",
    "    for i in range(15):\n",
    "        \n",
    "        #Based on random integer, get random element from a certain string\n",
    "        #Flag accordingly and add random element to password\n",
    "        #Get random integer for next round of loop\n",
    "        if st == 0:\n",
    "            index = random.randrange(26)\n",
    "            password += lc[index]\n",
    "            flag += 'a'\n",
    "            st = random.randrange(4)\n",
    "        elif st == 1:\n",
    "            index = random.randrange(26)\n",
    "            password += uc[index]\n",
    "            flag += 'b'\n",
    "            st = random.randrange(4)\n",
    "        elif st == 2:\n",
    "            index = random.randrange(10)\n",
    "            password += nb[index]\n",
    "            flag += 'c'\n",
    "            st = random.randrange(4)\n",
    "        elif st == 3:\n",
    "            index = random.randrange(32)\n",
    "            password += pt[index]\n",
    "            flag += 'd'\n",
    "            st = random.randrange(4)\n",
    "            \n",
    "        #When password nears its end, start to check if it meets criteria\n",
    "        #If it doesn't, force needed type of element into password\n",
    "        if len(password) == 11:\n",
    "            for j in range(len(flag)):\n",
    "                if flag[j] == 'a':\n",
    "                    break\n",
    "                elif j == 3:\n",
    "                    st = 0\n",
    "        elif len(password) == 12:\n",
    "            for j in range(len(flag)):\n",
    "                if flag[j] == 'b':\n",
    "                    break\n",
    "                elif j == 3:\n",
    "                    st = 1\n",
    "        elif len(password) == 13:\n",
    "            for j in range(len(flag)):\n",
    "                if flag[j] == 'c':\n",
    "                    break\n",
    "                elif j == 3:\n",
    "                    st = 2\n",
    "        elif len(password) == 14:\n",
    "            for j in range(len(flag)):\n",
    "                if flag[j] == 'd':\n",
    "                    break\n",
    "                elif j == 3:\n",
    "                    st = 3\n",
    "                    \n",
    "    return password\n",
    "\n",
    "generate_password()"
   ]
  },
  {
   "cell_type": "markdown",
   "id": "58dd84a9",
   "metadata": {},
   "source": [
    "This function checks whether a password fits the criteria listed in the homework pdf."
   ]
  },
  {
   "cell_type": "code",
   "execution_count": 13,
   "id": "b8887e29",
   "metadata": {},
   "outputs": [
    {
     "name": "stdout",
     "output_type": "stream",
     "text": [
      "This is a valid password.\n"
     ]
    }
   ],
   "source": [
    "#Import necessary module\n",
    "import string\n",
    "\n",
    "#Define function, set used strings to nothing\n",
    "#Pull needed strings\n",
    "def check_password(password):\n",
    "    flag1 = ''\n",
    "    flag2 = ''\n",
    "    flag3 = ''\n",
    "    flag4 = ''\n",
    "    lc = string.ascii_lowercase\n",
    "    uc = string.ascii_uppercase\n",
    "    nb = string.digits\n",
    "    pt = string.punctuation\n",
    "    ws = string.whitespace\n",
    "    \n",
    "    #Check if password's length is okay\n",
    "    if len(password) < 6:\n",
    "        return 'Not a valid password.'\n",
    "    elif len(password) > 20:\n",
    "        return 'Not a valid password.'\n",
    "    \n",
    "    #Check there's no whitespace.\n",
    "    #Flag is there's at least one of each needed criterium\n",
    "    for i in range(len(password)):\n",
    "        for j in range(len(ws)):\n",
    "            if password[i] == ws[j]:\n",
    "                return 'Not a valid password.'\n",
    "        for j in range(32):\n",
    "            if password[i] == pt[j]:\n",
    "                flag1 = 'a'\n",
    "        for j in range(10):\n",
    "            if password[i] == nb[j]:\n",
    "                flag2 = 'b'\n",
    "        for j in range(26):\n",
    "            if password[i] == lc[j]:\n",
    "                flag3 = 'c'\n",
    "            elif password[i] == uc[j]:\n",
    "                flag4 = 'd'\n",
    "    \n",
    "    #Check for flags\n",
    "    if flag1 == '':\n",
    "        return 'Not a valid password.'\n",
    "    elif flag2 == '':\n",
    "        return 'Not a valid password.'\n",
    "    elif flag3 == '':\n",
    "        return 'Not a valid password.'\n",
    "    elif flag4 == '':\n",
    "        return 'Not a valid password.'\n",
    "    else:\n",
    "        return 'This is a valid password.'\n",
    "\n",
    "print(check_password('1E=(6:0xA2Vp,9u'))"
   ]
  },
  {
   "cell_type": "code",
   "execution_count": null,
   "id": "cbc279d6",
   "metadata": {},
   "outputs": [],
   "source": []
  }
 ],
 "metadata": {
  "kernelspec": {
   "display_name": "Python 3",
   "language": "python",
   "name": "python3"
  },
  "language_info": {
   "codemirror_mode": {
    "name": "ipython",
    "version": 3
   },
   "file_extension": ".py",
   "mimetype": "text/x-python",
   "name": "python",
   "nbconvert_exporter": "python",
   "pygments_lexer": "ipython3",
   "version": "3.8.8"
  }
 },
 "nbformat": 4,
 "nbformat_minor": 5
}
