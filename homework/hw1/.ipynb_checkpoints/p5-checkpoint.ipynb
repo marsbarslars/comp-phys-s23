{
 "cells": [
  {
   "cell_type": "markdown",
   "id": "302e967b",
   "metadata": {},
   "source": []
  },
  {
   "cell_type": "code",
   "execution_count": 8,
   "id": "6742f4ad",
   "metadata": {},
   "outputs": [],
   "source": [
    "import os\n",
    "import subprocess\n",
    "\n",
    "def get_directory_contents(path, comma_separated = False):\n",
    "    files = []\n",
    "    for dirpath, dirname, filename in os.walk(path):\n",
    "        files.append(dirname)\n",
    "        files.append(filename)\n",
    "    if comma_separated:\n",
    "        for i in len(files):\n",
    "            print(files[i] + ',')\n",
    "    else:\n",
    "        return files\n"
   ]
  },
  {
   "cell_type": "markdown",
   "id": "3404ed6f",
   "metadata": {},
   "source": []
  },
  {
   "cell_type": "code",
   "execution_count": null,
   "id": "b327aecf",
   "metadata": {},
   "outputs": [],
   "source": [
    "def get_list_of_files(path, file_extension, formatted_list = False):\n",
    "    "
   ]
  }
 ],
 "metadata": {
  "kernelspec": {
   "display_name": "Python 3",
   "language": "python",
   "name": "python3"
  },
  "language_info": {
   "codemirror_mode": {
    "name": "ipython",
    "version": 3
   },
   "file_extension": ".py",
   "mimetype": "text/x-python",
   "name": "python",
   "nbconvert_exporter": "python",
   "pygments_lexer": "ipython3",
   "version": "3.8.8"
  }
 },
 "nbformat": 4,
 "nbformat_minor": 5
}
