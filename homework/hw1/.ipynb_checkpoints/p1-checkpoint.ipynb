{
 "cells": [
  {
   "cell_type": "markdown",
   "id": "4aaf9db9",
   "metadata": {},
   "source": [
    "The 1st function does NOT use numpy to calculate the sum of the sines of the first 100 natural numbers."
   ]
  },
  {
   "cell_type": "code",
   "execution_count": 2,
   "id": "3ccc60a1",
   "metadata": {},
   "outputs": [
    {
     "data": {
      "text/plain": [
       "-0.12717101366041972"
      ]
     },
     "execution_count": 2,
     "metadata": {},
     "output_type": "execute_result"
    }
   ],
   "source": [
    "#Import necessary module\n",
    "import math\n",
    "\n",
    "#Add the sines one by one\n",
    "def calculate_sum_basic():\n",
    "    sum = 0\n",
    "    for i in range(1, 101):\n",
    "        sum += math.sin(i)\n",
    "    return sum\n",
    "\n",
    "calculate_sum_basic()"
   ]
  },
  {
   "cell_type": "markdown",
   "id": "297a5bcb",
   "metadata": {},
   "source": [
    "The 2nd function DOES use numpy."
   ]
  },
  {
   "cell_type": "code",
   "execution_count": 3,
   "id": "fd3387af",
   "metadata": {},
   "outputs": [
    {
     "data": {
      "text/plain": [
       "-0.12717101366042016"
      ]
     },
     "execution_count": 3,
     "metadata": {},
     "output_type": "execute_result"
    }
   ],
   "source": [
    "#Import necessary modules\n",
    "import math\n",
    "import numpy as np\n",
    "\n",
    "#Make array of natural numbers 1-100\n",
    "#Find the sine of all elements of 1st array, then add them up\n",
    "def calculate_sum():\n",
    "    x = np.arange(1, 101, 1)\n",
    "    y = np.sin(x)\n",
    "    sum = np.sum(y)\n",
    "    return sum\n",
    "\n",
    "calculate_sum()"
   ]
  }
 ],
 "metadata": {
  "kernelspec": {
   "display_name": "Python 3",
   "language": "python",
   "name": "python3"
  },
  "language_info": {
   "codemirror_mode": {
    "name": "ipython",
    "version": 3
   },
   "file_extension": ".py",
   "mimetype": "text/x-python",
   "name": "python",
   "nbconvert_exporter": "python",
   "pygments_lexer": "ipython3",
   "version": "3.8.8"
  }
 },
 "nbformat": 4,
 "nbformat_minor": 5
}
