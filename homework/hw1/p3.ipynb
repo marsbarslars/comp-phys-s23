{
 "cells": [
  {
   "cell_type": "markdown",
   "id": "7273210e",
   "metadata": {},
   "source": [
    "The function prime_factors(n) returns a sorted list of the prime factors of n."
   ]
  },
  {
   "cell_type": "code",
   "execution_count": 16,
   "id": "b4dbc8bf",
   "metadata": {},
   "outputs": [],
   "source": [
    "#Import necessary modules\n",
    "import math\n",
    "\n",
    "def prime_factors(n):\n",
    "    \n",
    "    #Account for negative numbers and non-integers\n",
    "    if n < 0:\n",
    "        n *= -1\n",
    "    if not isinstance(n, int):\n",
    "        return \"Make sure input is an integer.\"\n",
    "    \n",
    "    #Set empty list to factor_list because I'm paranoid\n",
    "    #Have another copy of n (m) to manipulate\n",
    "    factor_list = []\n",
    "    m = n\n",
    "    \n",
    "    #Starting from low end to 1/2 of n, add factors to list\n",
    "    #Divide m (starting at n) by integer factor and continue until it can't be divided further\n",
    "    #This method makes sure all factors added to list are prime\n",
    "    for i in range(2, math.ceil(n/2)+1):\n",
    "        if m % i == 0:\n",
    "            factor_list.append(i)\n",
    "            while m % i == 0:\n",
    "                m /= i\n",
    "                \n",
    "    #If n is prime, put it in list\n",
    "    if m == n:\n",
    "        factor_list.append(m)\n",
    "        \n",
    "    return factor_list"
   ]
  },
  {
   "cell_type": "code",
   "execution_count": null,
   "id": "423fa6fa",
   "metadata": {},
   "outputs": [],
   "source": []
  }
 ],
 "metadata": {
  "kernelspec": {
   "display_name": "Python 3",
   "language": "python",
   "name": "python3"
  },
  "language_info": {
   "codemirror_mode": {
    "name": "ipython",
    "version": 3
   },
   "file_extension": ".py",
   "mimetype": "text/x-python",
   "name": "python",
   "nbconvert_exporter": "python",
   "pygments_lexer": "ipython3",
   "version": "3.8.8"
  }
 },
 "nbformat": 4,
 "nbformat_minor": 5
}
