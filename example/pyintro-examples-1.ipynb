{
 "cells": [
  {
   "cell_type": "markdown",
   "id": "35783e52",
   "metadata": {},
   "source": [
    "## Examples\n",
    "\n",
    "**Example 1** Write a function that takes as input an integer *n* and returns a list of prime numbers smaller than *n*."
   ]
  },
  {
   "cell_type": "code",
   "execution_count": 4,
   "id": "84fdf28b",
   "metadata": {},
   "outputs": [
    {
     "data": {
      "text/plain": [
       "[2,\n",
       " 3,\n",
       " 5,\n",
       " 7,\n",
       " 11,\n",
       " 13,\n",
       " 17,\n",
       " 19,\n",
       " 23,\n",
       " 29,\n",
       " 31,\n",
       " 37,\n",
       " 41,\n",
       " 43,\n",
       " 47,\n",
       " 53,\n",
       " 59,\n",
       " 61,\n",
       " 67,\n",
       " 71,\n",
       " 73,\n",
       " 79,\n",
       " 83,\n",
       " 89,\n",
       " 97]"
      ]
     },
     "execution_count": 4,
     "metadata": {},
     "output_type": "execute_result"
    }
   ],
   "source": [
    "def prime_below(n):\n",
    "    prime_list = []\n",
    "    if n > 2: prime_list = [2]\n",
    "    for i in range(3, n):\n",
    "        for j in range(0, len(prime_list)):\n",
    "            if i % prime_list[j] == 0:\n",
    "                break\n",
    "            elif j == len(prime_list) - 1:\n",
    "                prime_list.append(i)\n",
    "    return prime_list\n",
    "\n",
    "#for k in range(1, 21):\n",
    "#    print(prime_below(k))\n",
    "prime_below(100)"
   ]
  },
  {
   "cell_type": "markdown",
   "id": "60ea4023",
   "metadata": {},
   "source": [
    "**Example 2** Write a function that takes as input the name of a file and returns a tuple with the number of lines, words, and characters in the file.  Compare with the output of the bash utility wc.  "
   ]
  },
  {
   "cell_type": "code",
   "execution_count": null,
   "id": "ef6620d8",
   "metadata": {},
   "outputs": [],
   "source": [
    "def wc(fname):\n",
    "    with open(fname,'r') as fh:\n",
    "        lines = fh.readlines()\n",
    "    fh.close()\n",
    "    ## your code here"
   ]
  },
  {
   "cell_type": "markdown",
   "id": "e189b15d",
   "metadata": {},
   "source": [
    "**Example 3** Write a program that includes a function to determine the first $N$ numbers in the Fibonacci sequence.  The function should be called 'fibonacci' and should take a single argument that is the number of terms in the sequence to determine.  The function should return the $N$ terms in the sequence as a list."
   ]
  },
  {
   "cell_type": "code",
   "execution_count": null,
   "id": "459d26b1",
   "metadata": {},
   "outputs": [],
   "source": [
    "## your code here"
   ]
  },
  {
   "cell_type": "markdown",
   "id": "0f8ed552",
   "metadata": {},
   "source": [
    "**Example 4** The binary file /work/golfclass/fgolf/data/dataSet.npy stores the value of a one-dimensional numpy array *x* which was saved with this python command: np.save(\"dataSet.npy\", x).  Write a python program to read the file to recreate the array *x*. Then make a histogram of *x* and display it. Make sensible choices about the binning and the axes (linear? semilog? log-log?). How would you want to display these data? Make sure to label the horizontal and vertical axes. Also, include the statistics box. To that end you can use the code in /home/golfclass/fgolf/data/ccHist.py.  Hint: for the npy files, look at https://docs.scipy.org/doc/numpy-1.13.0/reference/routines.io.html.  In this case the binary .npy file is 3 times smaller than the equivalent .txt file."
   ]
  },
  {
   "cell_type": "code",
   "execution_count": null,
   "id": "b058cd5b",
   "metadata": {},
   "outputs": [],
   "source": [
    "## your code here"
   ]
  },
  {
   "cell_type": "markdown",
   "id": "7589286f",
   "metadata": {},
   "source": [
    "**Example 5** January 1, 1900 was a Monday. Plot a histogram of the frequency of the days of the week that occurred on the first of the month in the 20th century (January 1, 1901 to December 31, 2000). How many of these were a Tuesday? How often was the first day of June a Friday?"
   ]
  },
  {
   "cell_type": "code",
   "execution_count": null,
   "id": "4b201d00",
   "metadata": {},
   "outputs": [],
   "source": [
    "## your code here"
   ]
  }
 ],
 "metadata": {
  "kernelspec": {
   "display_name": "Python 3",
   "language": "python",
   "name": "python3"
  },
  "language_info": {
   "codemirror_mode": {
    "name": "ipython",
    "version": 3
   },
   "file_extension": ".py",
   "mimetype": "text/x-python",
   "name": "python",
   "nbconvert_exporter": "python",
   "pygments_lexer": "ipython3",
   "version": "3.8.8"
  }
 },
 "nbformat": 4,
 "nbformat_minor": 5
}
