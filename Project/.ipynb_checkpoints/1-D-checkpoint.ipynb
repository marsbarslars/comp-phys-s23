{
 "cells": [
  {
   "cell_type": "markdown",
   "id": "50ce3130",
   "metadata": {},
   "source": []
  },
  {
   "cell_type": "code",
   "execution_count": null,
   "id": "73591dac",
   "metadata": {},
   "outputs": [],
   "source": [
    "#Import modules\n",
    "import numpy as np\n",
    "import numpy.random as rand\n",
    "import matplotlib.pyplot as plt\n",
    "import scipy.special as special\n",
    "import scipy.integrate as integrate\n",
    "import cmath\n",
    "\n",
    "ci = complex(0, 1)"
   ]
  },
  {
   "cell_type": "code",
   "execution_count": null,
   "id": "4784c5b3",
   "metadata": {},
   "outputs": [],
   "source": [
    "def RK4(xn, yn, dt, f, *args):\n",
    "    k1 = dt*f(xn, yn, *args)\n",
    "    k2 = dt*f(xn + dt/2, yn + k1/2, *args)\n",
    "    k3 = dt*f(xn + dt/2, yn + k2/2, *args)\n",
    "    k4 = dt*f(xn + dt, yn + k3, *args)\n",
    "    \n",
    "    #Return x_{n+1} and y_{n+1} as new x_n and y_n\n",
    "    xn = xn + dt\n",
    "    yn = yn + (k1 + 2*k2 + 2*k3 + k4)/6\n",
    "    return xn, yn"
   ]
  },
  {
   "cell_type": "code",
   "execution_count": null,
   "id": "7934126b",
   "metadata": {},
   "outputs": [],
   "source": [
    "#Electric Field\n",
    "E0 = 0.0534\n",
    "omega = 0.114\n",
    "phi = 0\n",
    "\n",
    "#Envelope with mean at t=0 and duration of 128 au\n",
    "def envelope(t):\n",
    "    return (np.cos(np.pi*t/128))**2\n",
    "\n",
    "def E(t):\n",
    "    return E0 * envelope(t) * np.cos(omega*t + phi)"
   ]
  },
  {
   "cell_type": "code",
   "execution_count": null,
   "id": "9935dec2",
   "metadata": {},
   "outputs": [],
   "source": [
    "#Newton's Equation\n",
    "def ddx(t, dx, x):\n",
    "    return -E(t) - np.absolute(x)/x**3\n",
    "\n",
    "def dx(t, x, v):\n",
    "    return v"
   ]
  },
  {
   "cell_type": "code",
   "execution_count": null,
   "id": "870463d1",
   "metadata": {},
   "outputs": [],
   "source": [
    "#Ionization Potential\n",
    "Ip = 0.5\n",
    "\n",
    "#Keldysh Parameter\n",
    "kel = omega*np.sqrt(2*Ip)/E0\n",
    "\n",
    "#Final time\n",
    "tf = 64"
   ]
  },
  {
   "cell_type": "code",
   "execution_count": null,
   "id": "577f4ceb",
   "metadata": {},
   "outputs": [],
   "source": [
    "#Initial velocity\n",
    "v0 = 0\n",
    "v0t = 0"
   ]
  },
  {
   "cell_type": "code",
   "execution_count": null,
   "id": "4fa7d08e",
   "metadata": {
    "scrolled": false
   },
   "outputs": [
    {
     "name": "stderr",
     "output_type": "stream",
     "text": [
      "<ipython-input-7-86e07807bff5>:50: ComplexWarning: Casting complex values to real discards the imaginary part\n",
      "  phases[j] = answer - integral\n",
      "<ipython-input-7-86e07807bff5>:37: RuntimeWarning: overflow encountered in exp\n",
      "  weights[j] = np.exp(-2*(2*Ip)**1.5 / (3*E(t0))) * np.exp(-np.sqrt(2*Ip)*v0t**2 / (E(t0)))\n"
     ]
    }
   ],
   "source": [
    "#Number of trials\n",
    "N = 10**4\n",
    "\n",
    "final_p = np.empty(N)\n",
    "weights = np.empty(N)\n",
    "phases = np.empty(N)\n",
    "\n",
    "#Loop over number of trials\n",
    "for j in range(N):\n",
    "\n",
    "    #Choose time and find initial position\n",
    "    #Step size of 0.005 au for time\n",
    "    t = np.linspace(-64, 64, 25600)\n",
    "    index = rand.randint(0, 25600)\n",
    "    t0 = t[index]\n",
    "\n",
    "    x = np.zeros(25600)\n",
    "    x[index] = (-Ip - np.sqrt(Ip**2 - 4*np.absolute(E(t0))))/(2*E(t0))\n",
    "\n",
    "    p = np.zeros(25600)\n",
    "    p[index] = v0\n",
    "\n",
    "    #Solving the IVP\n",
    "    for i in range(index+1, 25600):\n",
    "        dt = t[i] - t[i-1]\n",
    "        throw, x[i] = RK4(t[i-1], x[i-1], dt, dx, p[i-1])\n",
    "        throw, p[i] = RK4(t[i-1], p[i-1], dt, ddx, x[i-1])\n",
    "\n",
    "    t = t[index:]\n",
    "    x = x[index:]\n",
    "    p = p[index:]\n",
    "    \n",
    "    #List of final momenta\n",
    "    final_p[j] = p[-1]\n",
    "    \n",
    "    #List of weights\n",
    "    weights[j] = np.exp(-2*(2*Ip)**1.5 / (3*E(t0))) * np.exp(-np.sqrt(2*Ip)*v0t**2 / (E(t0)))\n",
    "    \n",
    "    #List of phases\n",
    "    #Parameters from Semiclassical 2-Step paper\n",
    "    L = 0\n",
    "    H = (p[-1])**2 / 2 - 1/np.absolute(x[-1])\n",
    "    b = 1/(2*H)\n",
    "    g = np.sqrt(1 + 2*H*(L**2))\n",
    "    #Build answer\n",
    "    answer = -v0t*x[0] + Ip*t0\n",
    "    answer = answer - cmath.sqrt(b)*(np.log(g) + np.arcsinh(x[-1]*p[-1]/(g*cmath.sqrt(b))))\n",
    "    integrand = p**2 / 2 - 2/np.absolute(x)\n",
    "    integral = (64-t0)*np.average(integrand)\n",
    "    phases[j] = answer - integral\n",
    "\n",
    "print('done')"
   ]
  },
  {
   "cell_type": "code",
   "execution_count": null,
   "id": "80f722aa",
   "metadata": {},
   "outputs": [],
   "source": [
    "bin_size = 0.01\n",
    "min_p = np.min(final_p)\n",
    "max_p = np.max(final_p)\n",
    "bins_pos = np.empty(np.ceil(max_p/bin_size))\n",
    "bins_neg = np.empty(-np.floor(min_p/bin_size))\n",
    "bins_w_pos = np.empty(np.ceil(max_p/bin_size))\n",
    "bins_S_pos = np.empty(np.ceil(max_p/bin_size))\n",
    "bins_w_neg = np.empty(-np.floor(min_p/bin_size))\n",
    "bins_S_neg = np.empty(-np.floor(min_p/bin_size))\n",
    "\n",
    "#Allocate momenta into bins\n",
    "for i in range(np.ceil(max_p/bin_size)):\n",
    "    bins_pos[i] = []\n",
    "    bins_w_pos[i] = []\n",
    "    bins_S_pos[i] = []\n",
    "    for j in range(len(final_p)):\n",
    "        if final_p[j] > bin_size*i & final_p[j] < bin_size*(i+1):\n",
    "            bins_pos[i].append(final_p[j])\n",
    "            final_p[j] = 0\n",
    "            bins_w_pos[i].append(weights[j])\n",
    "            weights[j] = 0\n",
    "            bins_S_pos[i].append(phases[j])\n",
    "            phases[j] = 0\n",
    "    final_p = final_p[final_p!=0]\n",
    "    weights = weights[weights!=0]\n",
    "    phases = phases[phases!=0]\n",
    "\n",
    "for i in range(-np.floor(min_p/bin_size)):\n",
    "    bins_neg[i] = []\n",
    "    bins_w_neg[i] = []\n",
    "    bins_S_neg[i] = []\n",
    "    for j in range(len(final_p)):\n",
    "        if final_p[j] < -bin_size*i & final_p[j] > -bin_size*(i+1):\n",
    "            bins_neg[i].append(final_p[j])\n",
    "            final_p[j] = 0\n",
    "            bins_w_neg[i].append(weights[j])\n",
    "            weights[j] = 0\n",
    "            bins_S_neg[i].append(phases[j])\n",
    "            phases[j] = 0\n",
    "    final_p = final_p[final_p!=0]\n",
    "    weights = weights[weights!=0]\n",
    "    phases = phases[phases!=0]\n",
    "         \n",
    "#Concatenate lists\n",
    "bins = bins_neg.reverse() + bins_pos\n",
    "bins_w = bins_w_neg.reverse() + bins_w_pos\n",
    "bins_S = bins_S_neg.reverse() + bins_S_pos"
   ]
  },
  {
   "cell_type": "code",
   "execution_count": null,
   "id": "256cd8af",
   "metadata": {},
   "outputs": [],
   "source": [
    "#Probability in bins\n",
    "def prob_bin(w_bin, S_bin):\n",
    "    answer = 0\n",
    "    for k in len(w_bin):\n",
    "        answer += np.sqrt(w[k]) * np.exp(ci*S[k])\n",
    "    return np.real(answer * np.conj(answer))\n",
    "         \n",
    "momenta = np.linspace((np.floor(min_p/bin_size)+0.5)*bin_size, (np.ceil(max_p/bin_size)+0.5)*binsize, len(bins))\n",
    "\n",
    "prob = np.empty(len(bins))\n",
    "for i in range(len(bins)):\n",
    "    prob[i] = prob_bin(bins_w[i], bins_S[i])"
   ]
  },
  {
   "cell_type": "code",
   "execution_count": null,
   "id": "90df061d",
   "metadata": {},
   "outputs": [],
   "source": [
    "#Plot graph\n",
    "fig, ax = plt.subplots(figsize=(9, 6))\n",
    "ax[0].plot(momenta, prob)"
   ]
  }
 ],
 "metadata": {
  "kernelspec": {
   "display_name": "Python 3",
   "language": "python",
   "name": "python3"
  },
  "language_info": {
   "codemirror_mode": {
    "name": "ipython",
    "version": 3
   },
   "file_extension": ".py",
   "mimetype": "text/x-python",
   "name": "python",
   "nbconvert_exporter": "python",
   "pygments_lexer": "ipython3",
   "version": "3.8.8"
  }
 },
 "nbformat": 4,
 "nbformat_minor": 5
}
