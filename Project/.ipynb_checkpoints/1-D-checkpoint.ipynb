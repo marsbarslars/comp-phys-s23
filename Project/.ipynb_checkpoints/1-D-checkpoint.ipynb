{
 "cells": [
  {
   "cell_type": "markdown",
   "id": "50ce3130",
   "metadata": {},
   "source": []
  },
  {
   "cell_type": "code",
   "execution_count": 1,
   "id": "73591dac",
   "metadata": {},
   "outputs": [],
   "source": [
    "#Import modules\n",
    "import numpy as np\n",
    "import numpy.random as rand\n",
    "import matplotlib.pyplot as plt\n",
    "\n",
    "import cmath\n",
    "\n",
    "ci = complex(0, 1)"
   ]
  },
  {
   "cell_type": "code",
   "execution_count": 2,
   "id": "4784c5b3",
   "metadata": {},
   "outputs": [],
   "source": [
    "def RK4(xn, yn, dt, f, *args):\n",
    "    k1 = dt*f(xn, yn, *args)\n",
    "    k2 = dt*f(xn + dt/2, yn + k1/2, *args)\n",
    "    k3 = dt*f(xn + dt/2, yn + k2/2, *args)\n",
    "    k4 = dt*f(xn + dt, yn + k3, *args)\n",
    "    \n",
    "    #Return x_{n+1} and y_{n+1} as new x_n and y_n\n",
    "    xn = xn + dt\n",
    "    yn = yn + (k1 + 2*k2 + 2*k3 + k4)/6\n",
    "    return xn, yn"
   ]
  },
  {
   "cell_type": "code",
   "execution_count": 3,
   "id": "7934126b",
   "metadata": {},
   "outputs": [],
   "source": [
    "#Electric Field\n",
    "E0 = 0.0534\n",
    "omega = 0.114\n",
    "phi = 0\n",
    "\n",
    "#Envelope with mean at t=0 and duration of 128 au\n",
    "def envelope(t):\n",
    "    return (np.cos(np.pi*t/128))**2\n",
    "\n",
    "def E(t):\n",
    "    return E0 * envelope(t) * np.cos(omega*t + phi)"
   ]
  },
  {
   "cell_type": "code",
   "execution_count": 4,
   "id": "9935dec2",
   "metadata": {},
   "outputs": [],
   "source": [
    "#Newton's Equation\n",
    "def ddx(t, dx, x):\n",
    "    return -E(t) - np.absolute(x)/x**3\n",
    "\n",
    "def dx(t, x, v):\n",
    "    return v"
   ]
  },
  {
   "cell_type": "code",
   "execution_count": 5,
   "id": "870463d1",
   "metadata": {},
   "outputs": [],
   "source": [
    "#Ionization Potential\n",
    "Ip = 0.5\n",
    "\n",
    "#Keldysh Parameter\n",
    "kel = omega*np.sqrt(2*Ip)/E0\n",
    "\n",
    "#Final time\n",
    "tf = 64"
   ]
  },
  {
   "cell_type": "code",
   "execution_count": 6,
   "id": "577f4ceb",
   "metadata": {},
   "outputs": [],
   "source": [
    "#Initial velocity\n",
    "v0 = 0\n",
    "v0t = 0"
   ]
  },
  {
   "cell_type": "code",
   "execution_count": 22,
   "id": "4fa7d08e",
   "metadata": {
    "scrolled": false
   },
   "outputs": [
    {
     "name": "stderr",
     "output_type": "stream",
     "text": [
      "<ipython-input-22-349f6407bba1>:50: ComplexWarning: Casting complex values to real discards the imaginary part\n",
      "  phases[j] = answer - integral\n",
      "<ipython-input-22-349f6407bba1>:37: RuntimeWarning: overflow encountered in exp\n",
      "  weights[j] = np.exp(-2*(2*Ip)**1.5 / (3*E(t0))) * np.exp(-np.sqrt(2*Ip)*v0t**2 / (E(t0)))\n"
     ]
    },
    {
     "ename": "KeyboardInterrupt",
     "evalue": "",
     "output_type": "error",
     "traceback": [
      "\u001b[1;31m---------------------------------------------------------------------------\u001b[0m",
      "\u001b[1;31mKeyboardInterrupt\u001b[0m                         Traceback (most recent call last)",
      "\u001b[1;32m<ipython-input-22-349f6407bba1>\u001b[0m in \u001b[0;36m<module>\u001b[1;34m\u001b[0m\n\u001b[0;32m     25\u001b[0m         \u001b[0mdt\u001b[0m \u001b[1;33m=\u001b[0m \u001b[0mt\u001b[0m\u001b[1;33m[\u001b[0m\u001b[0mi\u001b[0m\u001b[1;33m]\u001b[0m \u001b[1;33m-\u001b[0m \u001b[0mt\u001b[0m\u001b[1;33m[\u001b[0m\u001b[0mi\u001b[0m\u001b[1;33m-\u001b[0m\u001b[1;36m1\u001b[0m\u001b[1;33m]\u001b[0m\u001b[1;33m\u001b[0m\u001b[1;33m\u001b[0m\u001b[0m\n\u001b[0;32m     26\u001b[0m         \u001b[0mthrow\u001b[0m\u001b[1;33m,\u001b[0m \u001b[0mx\u001b[0m\u001b[1;33m[\u001b[0m\u001b[0mi\u001b[0m\u001b[1;33m]\u001b[0m \u001b[1;33m=\u001b[0m \u001b[0mRK4\u001b[0m\u001b[1;33m(\u001b[0m\u001b[0mt\u001b[0m\u001b[1;33m[\u001b[0m\u001b[0mi\u001b[0m\u001b[1;33m-\u001b[0m\u001b[1;36m1\u001b[0m\u001b[1;33m]\u001b[0m\u001b[1;33m,\u001b[0m \u001b[0mx\u001b[0m\u001b[1;33m[\u001b[0m\u001b[0mi\u001b[0m\u001b[1;33m-\u001b[0m\u001b[1;36m1\u001b[0m\u001b[1;33m]\u001b[0m\u001b[1;33m,\u001b[0m \u001b[0mdt\u001b[0m\u001b[1;33m,\u001b[0m \u001b[0mdx\u001b[0m\u001b[1;33m,\u001b[0m \u001b[0mp\u001b[0m\u001b[1;33m[\u001b[0m\u001b[0mi\u001b[0m\u001b[1;33m-\u001b[0m\u001b[1;36m1\u001b[0m\u001b[1;33m]\u001b[0m\u001b[1;33m)\u001b[0m\u001b[1;33m\u001b[0m\u001b[1;33m\u001b[0m\u001b[0m\n\u001b[1;32m---> 27\u001b[1;33m         \u001b[0mthrow\u001b[0m\u001b[1;33m,\u001b[0m \u001b[0mp\u001b[0m\u001b[1;33m[\u001b[0m\u001b[0mi\u001b[0m\u001b[1;33m]\u001b[0m \u001b[1;33m=\u001b[0m \u001b[0mRK4\u001b[0m\u001b[1;33m(\u001b[0m\u001b[0mt\u001b[0m\u001b[1;33m[\u001b[0m\u001b[0mi\u001b[0m\u001b[1;33m-\u001b[0m\u001b[1;36m1\u001b[0m\u001b[1;33m]\u001b[0m\u001b[1;33m,\u001b[0m \u001b[0mp\u001b[0m\u001b[1;33m[\u001b[0m\u001b[0mi\u001b[0m\u001b[1;33m-\u001b[0m\u001b[1;36m1\u001b[0m\u001b[1;33m]\u001b[0m\u001b[1;33m,\u001b[0m \u001b[0mdt\u001b[0m\u001b[1;33m,\u001b[0m \u001b[0mddx\u001b[0m\u001b[1;33m,\u001b[0m \u001b[0mx\u001b[0m\u001b[1;33m[\u001b[0m\u001b[0mi\u001b[0m\u001b[1;33m-\u001b[0m\u001b[1;36m1\u001b[0m\u001b[1;33m]\u001b[0m\u001b[1;33m)\u001b[0m\u001b[1;33m\u001b[0m\u001b[1;33m\u001b[0m\u001b[0m\n\u001b[0m\u001b[0;32m     28\u001b[0m \u001b[1;33m\u001b[0m\u001b[0m\n\u001b[0;32m     29\u001b[0m     \u001b[0mt\u001b[0m \u001b[1;33m=\u001b[0m \u001b[0mt\u001b[0m\u001b[1;33m[\u001b[0m\u001b[0mindex\u001b[0m\u001b[1;33m:\u001b[0m\u001b[1;33m]\u001b[0m\u001b[1;33m\u001b[0m\u001b[1;33m\u001b[0m\u001b[0m\n",
      "\u001b[1;32m<ipython-input-2-5166c208a6f6>\u001b[0m in \u001b[0;36mRK4\u001b[1;34m(xn, yn, dt, f, *args)\u001b[0m\n\u001b[0;32m      1\u001b[0m \u001b[1;32mdef\u001b[0m \u001b[0mRK4\u001b[0m\u001b[1;33m(\u001b[0m\u001b[0mxn\u001b[0m\u001b[1;33m,\u001b[0m \u001b[0myn\u001b[0m\u001b[1;33m,\u001b[0m \u001b[0mdt\u001b[0m\u001b[1;33m,\u001b[0m \u001b[0mf\u001b[0m\u001b[1;33m,\u001b[0m \u001b[1;33m*\u001b[0m\u001b[0margs\u001b[0m\u001b[1;33m)\u001b[0m\u001b[1;33m:\u001b[0m\u001b[1;33m\u001b[0m\u001b[1;33m\u001b[0m\u001b[0m\n\u001b[1;32m----> 2\u001b[1;33m     \u001b[0mk1\u001b[0m \u001b[1;33m=\u001b[0m \u001b[0mdt\u001b[0m\u001b[1;33m*\u001b[0m\u001b[0mf\u001b[0m\u001b[1;33m(\u001b[0m\u001b[0mxn\u001b[0m\u001b[1;33m,\u001b[0m \u001b[0myn\u001b[0m\u001b[1;33m,\u001b[0m \u001b[1;33m*\u001b[0m\u001b[0margs\u001b[0m\u001b[1;33m)\u001b[0m\u001b[1;33m\u001b[0m\u001b[1;33m\u001b[0m\u001b[0m\n\u001b[0m\u001b[0;32m      3\u001b[0m     \u001b[0mk2\u001b[0m \u001b[1;33m=\u001b[0m \u001b[0mdt\u001b[0m\u001b[1;33m*\u001b[0m\u001b[0mf\u001b[0m\u001b[1;33m(\u001b[0m\u001b[0mxn\u001b[0m \u001b[1;33m+\u001b[0m \u001b[0mdt\u001b[0m\u001b[1;33m/\u001b[0m\u001b[1;36m2\u001b[0m\u001b[1;33m,\u001b[0m \u001b[0myn\u001b[0m \u001b[1;33m+\u001b[0m \u001b[0mk1\u001b[0m\u001b[1;33m/\u001b[0m\u001b[1;36m2\u001b[0m\u001b[1;33m,\u001b[0m \u001b[1;33m*\u001b[0m\u001b[0margs\u001b[0m\u001b[1;33m)\u001b[0m\u001b[1;33m\u001b[0m\u001b[1;33m\u001b[0m\u001b[0m\n\u001b[0;32m      4\u001b[0m     \u001b[0mk3\u001b[0m \u001b[1;33m=\u001b[0m \u001b[0mdt\u001b[0m\u001b[1;33m*\u001b[0m\u001b[0mf\u001b[0m\u001b[1;33m(\u001b[0m\u001b[0mxn\u001b[0m \u001b[1;33m+\u001b[0m \u001b[0mdt\u001b[0m\u001b[1;33m/\u001b[0m\u001b[1;36m2\u001b[0m\u001b[1;33m,\u001b[0m \u001b[0myn\u001b[0m \u001b[1;33m+\u001b[0m \u001b[0mk2\u001b[0m\u001b[1;33m/\u001b[0m\u001b[1;36m2\u001b[0m\u001b[1;33m,\u001b[0m \u001b[1;33m*\u001b[0m\u001b[0margs\u001b[0m\u001b[1;33m)\u001b[0m\u001b[1;33m\u001b[0m\u001b[1;33m\u001b[0m\u001b[0m\n\u001b[0;32m      5\u001b[0m     \u001b[0mk4\u001b[0m \u001b[1;33m=\u001b[0m \u001b[0mdt\u001b[0m\u001b[1;33m*\u001b[0m\u001b[0mf\u001b[0m\u001b[1;33m(\u001b[0m\u001b[0mxn\u001b[0m \u001b[1;33m+\u001b[0m \u001b[0mdt\u001b[0m\u001b[1;33m,\u001b[0m \u001b[0myn\u001b[0m \u001b[1;33m+\u001b[0m \u001b[0mk3\u001b[0m\u001b[1;33m,\u001b[0m \u001b[1;33m*\u001b[0m\u001b[0margs\u001b[0m\u001b[1;33m)\u001b[0m\u001b[1;33m\u001b[0m\u001b[1;33m\u001b[0m\u001b[0m\n",
      "\u001b[1;32m<ipython-input-4-2e5bbb70a70f>\u001b[0m in \u001b[0;36mddx\u001b[1;34m(t, dx, x)\u001b[0m\n\u001b[0;32m      1\u001b[0m \u001b[1;31m#Newton's Equation\u001b[0m\u001b[1;33m\u001b[0m\u001b[1;33m\u001b[0m\u001b[1;33m\u001b[0m\u001b[0m\n\u001b[0;32m      2\u001b[0m \u001b[1;32mdef\u001b[0m \u001b[0mddx\u001b[0m\u001b[1;33m(\u001b[0m\u001b[0mt\u001b[0m\u001b[1;33m,\u001b[0m \u001b[0mdx\u001b[0m\u001b[1;33m,\u001b[0m \u001b[0mx\u001b[0m\u001b[1;33m)\u001b[0m\u001b[1;33m:\u001b[0m\u001b[1;33m\u001b[0m\u001b[1;33m\u001b[0m\u001b[0m\n\u001b[1;32m----> 3\u001b[1;33m     \u001b[1;32mreturn\u001b[0m \u001b[1;33m-\u001b[0m\u001b[0mE\u001b[0m\u001b[1;33m(\u001b[0m\u001b[0mt\u001b[0m\u001b[1;33m)\u001b[0m \u001b[1;33m-\u001b[0m \u001b[0mnp\u001b[0m\u001b[1;33m.\u001b[0m\u001b[0mabsolute\u001b[0m\u001b[1;33m(\u001b[0m\u001b[0mx\u001b[0m\u001b[1;33m)\u001b[0m\u001b[1;33m/\u001b[0m\u001b[0mx\u001b[0m\u001b[1;33m**\u001b[0m\u001b[1;36m3\u001b[0m\u001b[1;33m\u001b[0m\u001b[1;33m\u001b[0m\u001b[0m\n\u001b[0m\u001b[0;32m      4\u001b[0m \u001b[1;33m\u001b[0m\u001b[0m\n\u001b[0;32m      5\u001b[0m \u001b[1;32mdef\u001b[0m \u001b[0mdx\u001b[0m\u001b[1;33m(\u001b[0m\u001b[0mt\u001b[0m\u001b[1;33m,\u001b[0m \u001b[0mx\u001b[0m\u001b[1;33m,\u001b[0m \u001b[0mv\u001b[0m\u001b[1;33m)\u001b[0m\u001b[1;33m:\u001b[0m\u001b[1;33m\u001b[0m\u001b[1;33m\u001b[0m\u001b[0m\n",
      "\u001b[1;32m<ipython-input-3-03d4690f85ac>\u001b[0m in \u001b[0;36mE\u001b[1;34m(t)\u001b[0m\n\u001b[0;32m      9\u001b[0m \u001b[1;33m\u001b[0m\u001b[0m\n\u001b[0;32m     10\u001b[0m \u001b[1;32mdef\u001b[0m \u001b[0mE\u001b[0m\u001b[1;33m(\u001b[0m\u001b[0mt\u001b[0m\u001b[1;33m)\u001b[0m\u001b[1;33m:\u001b[0m\u001b[1;33m\u001b[0m\u001b[1;33m\u001b[0m\u001b[0m\n\u001b[1;32m---> 11\u001b[1;33m     \u001b[1;32mreturn\u001b[0m \u001b[0mE0\u001b[0m \u001b[1;33m*\u001b[0m \u001b[0menvelope\u001b[0m\u001b[1;33m(\u001b[0m\u001b[0mt\u001b[0m\u001b[1;33m)\u001b[0m \u001b[1;33m*\u001b[0m \u001b[0mnp\u001b[0m\u001b[1;33m.\u001b[0m\u001b[0mcos\u001b[0m\u001b[1;33m(\u001b[0m\u001b[0momega\u001b[0m\u001b[1;33m*\u001b[0m\u001b[0mt\u001b[0m \u001b[1;33m+\u001b[0m \u001b[0mphi\u001b[0m\u001b[1;33m)\u001b[0m\u001b[1;33m\u001b[0m\u001b[1;33m\u001b[0m\u001b[0m\n\u001b[0m",
      "\u001b[1;31mKeyboardInterrupt\u001b[0m: "
     ]
    }
   ],
   "source": [
    "#Number of trials\n",
    "N = 1*10**4\n",
    "\n",
    "final_p = np.empty(N)\n",
    "weights = np.empty(N)\n",
    "phases = np.empty(N)\n",
    "\n",
    "#Loop over number of trials\n",
    "for j in range(N):\n",
    "\n",
    "    #Choose time and find initial position\n",
    "    #Step size of 0.005 au for time\n",
    "    t = np.linspace(-64, 64, 25600)\n",
    "    index = rand.randint(0, 25600)\n",
    "    t0 = t[index]\n",
    "\n",
    "    x = np.zeros(25600)\n",
    "    x[index] = (-Ip - np.sqrt(Ip**2 - 4*np.absolute(E(t0))))/(2*E(t0))\n",
    "\n",
    "    p = np.zeros(25600)\n",
    "    p[index] = v0\n",
    "\n",
    "    #Solving the IVP\n",
    "    for i in range(index+1, 25600):\n",
    "        dt = t[i] - t[i-1]\n",
    "        throw, x[i] = RK4(t[i-1], x[i-1], dt, dx, p[i-1])\n",
    "        throw, p[i] = RK4(t[i-1], p[i-1], dt, ddx, x[i-1])\n",
    "\n",
    "    t = t[index:]\n",
    "    x = x[index:]\n",
    "    p = p[index:]\n",
    "    \n",
    "    #List of final momenta\n",
    "    final_p[j] = p[-1]\n",
    "    \n",
    "    #List of weights\n",
    "    weights[j] = np.exp(-2*(2*Ip)**1.5 / (3*E(t0))) * np.exp(-np.sqrt(2*Ip)*v0t**2 / (E(t0)))\n",
    "    \n",
    "    #List of phases\n",
    "    #Parameters from Semiclassical 2-Step paper\n",
    "    L = 0\n",
    "    H = (p[-1])**2 / 2 - 1/np.absolute(x[-1])\n",
    "    b = 1/(2*H)\n",
    "    g = np.sqrt(1 + 2*H*(L**2))\n",
    "    #Build answer\n",
    "    answer = -v0t*x[0] + Ip*t0\n",
    "    answer = answer - cmath.sqrt(b)*(np.log(g) + np.arcsinh(x[-1]*p[-1]/(g*cmath.sqrt(b))))\n",
    "    integrand = p**2 / 2 - 2/np.absolute(x)\n",
    "    integral = (64-t0)*np.average(integrand)\n",
    "    phases[j] = answer - integral\n",
    "    \n",
    "print('done')"
   ]
  },
  {
   "cell_type": "code",
   "execution_count": 19,
   "id": "80f722aa",
   "metadata": {},
   "outputs": [
    {
     "name": "stdout",
     "output_type": "stream",
     "text": [
      "done\n"
     ]
    }
   ],
   "source": [
    "#Will cut off momenta at -20 and 20 (otherwise run risk of being too big)\n",
    "bin_size = 0.01\n",
    "bins_pos = []\n",
    "bins_neg = []\n",
    "bins_w_pos = []\n",
    "bins_S_pos = []\n",
    "bins_w_neg = []\n",
    "bins_S_neg = []\n",
    "\n",
    "#Back up the lists in case code doesn't work\n",
    "#final_p = final_p_bu\n",
    "#weights = weights_bu\n",
    "#phases = phases_bu\n",
    "\n",
    "final_p_bu = final_p\n",
    "weights_bu = weights\n",
    "phases_bu = phases\n",
    "\n",
    "#Allocate momenta into bins\n",
    "for i in range(200):\n",
    "    bins_pos.append([])\n",
    "    bins_w_pos.append([])\n",
    "    bins_S_pos.append([])\n",
    "    for j in range(len(final_p)):\n",
    "        if final_p[j] > bin_size*i and final_p[j] < bin_size*(i+1):\n",
    "            bins_pos[i].append(final_p[j])\n",
    "            #final_p[j] = 0\n",
    "            bins_w_pos[i].append(weights[j])\n",
    "            #weights[j] = 0\n",
    "            bins_S_pos[i].append(phases[j])\n",
    "            #phases[j] = 0\n",
    "    #final_p = final_p[final_p!=0]\n",
    "    #weights = weights[weights!=0]\n",
    "    #phases = phases[phases!=0]\n",
    "\n",
    "for i in range(200):\n",
    "    bins_neg.append([])\n",
    "    bins_w_neg.append([])\n",
    "    bins_S_neg.append([])\n",
    "    for j in range(len(final_p)):\n",
    "        if final_p[j] < -bin_size*i and final_p[j] > -bin_size*(i+1):\n",
    "            bins_neg[i].append(final_p[j])\n",
    "            #final_p[j] = 0\n",
    "            bins_w_neg[i].append(weights[j])\n",
    "            #weights[j] = 0\n",
    "            bins_S_neg[i].append(phases[j])\n",
    "            #phases[j] = 0\n",
    "    #final_p = final_p[final_p!=0]\n",
    "    #weights = weights[weights!=0]\n",
    "    #phases = phases[phases!=0]\n",
    "         \n",
    "#Concatenate lists\n",
    "bins = []\n",
    "for m in range(1, len(bins_neg)+1):\n",
    "    bins.append(bins_neg[-m])\n",
    "bins = bins + bins_pos\n",
    "bins_w = []\n",
    "for m in range(1, len(bins_w_neg)+1):\n",
    "    bins_w.append(bins_w_neg[-m])\n",
    "bins_w = bins_w + bins_w_pos\n",
    "bins_S = []\n",
    "for m in range(1, len(bins_S_neg)+1):\n",
    "    bins_S.append(bins_S_neg[-m])\n",
    "bins_S = bins_S + bins_S_pos\n",
    "\n",
    "print('done')"
   ]
  },
  {
   "cell_type": "code",
   "execution_count": 37,
   "id": "256cd8af",
   "metadata": {},
   "outputs": [
    {
     "name": "stderr",
     "output_type": "stream",
     "text": [
      "<ipython-input-37-b0c5315120c3>:5: RuntimeWarning: invalid value encountered in cdouble_scalars\n",
      "  answer = answer + (np.sqrt(w_bin[k]) * np.exp(ci*S_bin[k]))\n"
     ]
    }
   ],
   "source": [
    "#Probability in bins\n",
    "def prob_bin(w_bin, S_bin):\n",
    "    answer = 0\n",
    "    for k in range(len(w_bin)):\n",
    "        answer = answer + (np.sqrt(w_bin[k]) * np.exp(ci*S_bin[k]))\n",
    "    return np.real(answer * np.conj(answer))\n",
    "         \n",
    "momenta = np.linspace(-1.95/2, 1.95/2, len(bins))\n",
    "\n",
    "prob = np.empty(len(bins))\n",
    "for i in range(len(bins)):\n",
    "    prob[i] = prob_bin(bins_w[i], bins_S[i])"
   ]
  },
  {
   "cell_type": "code",
   "execution_count": 38,
   "id": "90df061d",
   "metadata": {},
   "outputs": [
    {
     "name": "stdout",
     "output_type": "stream",
     "text": [
      "400\n"
     ]
    },
    {
     "data": {
      "image/png": "[encoded data removed]",
      "text/plain": [
       "<Figure size 648x432 with 1 Axes>"
      ]
     },
     "metadata": {
      "needs_background": "light"
     },
     "output_type": "display_data"
    }
   ],
   "source": [
    "print(len(prob))\n",
    "\n",
    "#Plot graph\n",
    "fig, ax = plt.subplots(figsize=(9, 6))\n",
    "ax.plot(momenta, prob)\n",
    "ax.set(xlabel='Momentum', ylabel='Relative Probability Density')\n",
    "plt.grid(True)\n",
    "plt.show()"
   ]
  }
 ],
 "metadata": {
  "kernelspec": {
   "display_name": "Python 3",
   "language": "python",
   "name": "python3"
  },
  "language_info": {
   "codemirror_mode": {
    "name": "ipython",
    "version": 3
   },
   "file_extension": ".py",
   "mimetype": "text/x-python",
   "name": "python",
   "nbconvert_exporter": "python",
   "pygments_lexer": "ipython3",
   "version": "3.8.8"
  }
 },
 "nbformat": 4,
 "nbformat_minor": 5
}
